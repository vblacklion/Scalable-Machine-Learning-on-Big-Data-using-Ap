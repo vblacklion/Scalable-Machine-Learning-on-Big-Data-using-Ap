{
 "cells": [
  {
   "cell_type": "markdown",
   "metadata": {
    "button": false,
    "new_sheet": false,
    "run_control": {
     "read_only": false
    }
   },
   "source": [
    "<a href=\"https://cognitiveclass.ai\"><img src = \"https://s3-api.us-geo.objectstorage.softlayer.net/cf-courses-data/CognitiveClass/Logos/organization_logo/organization_logo.png\" width = 400> </a>\n"
   ]
  },
  {
   "cell_type": "markdown",
   "metadata": {},
   "source": [
    "This notebook is designed to run in a IBM Watson Studio default runtime (NOT the Watson Studio Apache Spark Runtime as the default runtime with 1 vCPU is free of charge). Therefore, we install Apache Spark in local mode for test purposes only. Please don't use it in production.\n",
    "\n",
    "In case you are facing issues, please read the following two documents first:\n",
    "\n",
    "<https://github.com/IBM/skillsnetwork/wiki/Environment-Setup>\n",
    "\n",
    "<https://github.com/IBM/skillsnetwork/wiki/FAQ>\n",
    "\n",
    "Then, please feel free to ask:\n",
    "\n",
    "[https://coursera.org/learn/machine-learning-big-data-apache-spark/discussions/all](https://coursera.org/learn/machine-learning-big-data-apache-spark/discussions/all?cm_mmc=Email_Newsletter-_-Developer_Ed%2BTech-_-WW_WW-_-SkillsNetwork-Courses-IBMDeveloperSkillsNetwork-ML0201EN-SkillsNetwork-20647446&cm_mmca1=000026UJ&cm_mmca2=10006555&cm_mmca3=M12345678&cvosrc=email.Newsletter.M12345678&cvo_campaign=000026UJ)\n",
    "\n",
    "Please make sure to follow the guidelines before asking a question:\n",
    "\n",
    "<https://github.com/IBM/skillsnetwork/wiki/FAQ#im-feeling-lost-and-confused-please-help-me>\n",
    "\n",
    "If running outside Watson Studio, this should work as well. In case you are running in an Apache Spark context outside Watson Studio, please remove the Apache Spark setup in the first notebook cells.\n"
   ]
  },
  {
   "cell_type": "code",
   "execution_count": 1,
   "metadata": {},
   "outputs": [],
   "source": [
    "from IPython.display import Markdown, display\n",
    "def printmd(string):\n",
    "    display(Markdown('# <span style=\"color:red\">'+string+'</span>'))\n",
    "\n",
    "\n",
    "if ('sc' in locals() or 'sc' in globals()):\n",
    "    printmd('<<<<<!!!!! It seems that you are running in a IBM Watson Studio Apache Spark Notebook. Please run it in an IBM Watson Studio Default Runtime (without Apache Spark) !!!!!>>>>>')\n"
   ]
  },
  {
   "cell_type": "code",
   "execution_count": 2,
   "metadata": {},
   "outputs": [
    {
     "name": "stdout",
     "output_type": "stream",
     "text": [
      "Requirement already satisfied: pyspark==2.4.5 in /opt/conda/envs/Python-3.7-main/lib/python3.7/site-packages (2.4.5)\r\n",
      "Requirement already satisfied: py4j==0.10.7 in /opt/conda/envs/Python-3.7-main/lib/python3.7/site-packages (from pyspark==2.4.5) (0.10.7)\r\n"
     ]
    }
   ],
   "source": [
    "!pip install pyspark==2.4.5"
   ]
  },
  {
   "cell_type": "code",
   "execution_count": 3,
   "metadata": {},
   "outputs": [],
   "source": [
    "try:\n",
    "    from pyspark import SparkContext, SparkConf\n",
    "    from pyspark.sql import SparkSession\n",
    "except ImportError as e:\n",
    "    printmd('<<<<<!!!!! Please restart your kernel after installing Apache Spark !!!!!>>>>>')"
   ]
  },
  {
   "cell_type": "code",
   "execution_count": 4,
   "metadata": {},
   "outputs": [],
   "source": [
    "sc = SparkContext.getOrCreate(SparkConf().setMaster(\"local[*]\"))\n",
    "\n",
    "spark = SparkSession \\\n",
    "    .builder \\\n",
    "    .getOrCreate()"
   ]
  },
  {
   "cell_type": "markdown",
   "metadata": {
    "collapsed": true
   },
   "source": [
    "Welcome to exercise one of week two of “Apache Spark for Scalable Machine Learning on BigData”. In this exercise you’ll read a DataFrame in order to perform a simple statistical analysis. Then you’ll rebalance the dataset. No worries, we’ll explain everything to you, let’s get started.\n",
    "\n",
    "Let’s create a data frame from a remote file by downloading it:\n"
   ]
  },
  {
   "cell_type": "code",
   "execution_count": 5,
   "metadata": {},
   "outputs": [
    {
     "name": "stdout",
     "output_type": "stream",
     "text": [
      "--2020-12-04 15:19:40--  https://github.com/IBM/coursera/raw/master/hmp.parquet\n",
      "Resolving github.com (github.com)... 140.82.114.3\n",
      "Connecting to github.com (github.com)|140.82.114.3|:443... connected.\n",
      "HTTP request sent, awaiting response... 301 Moved Permanently\n",
      "Location: https://github.com/IBM/skillsnetwork/raw/master/hmp.parquet [following]\n",
      "--2020-12-04 15:19:41--  https://github.com/IBM/skillsnetwork/raw/master/hmp.parquet\n",
      "Reusing existing connection to github.com:443.\n",
      "HTTP request sent, awaiting response... 302 Found\n",
      "Location: https://raw.githubusercontent.com/IBM/skillsnetwork/master/hmp.parquet [following]\n",
      "--2020-12-04 15:19:41--  https://raw.githubusercontent.com/IBM/skillsnetwork/master/hmp.parquet\n",
      "Resolving raw.githubusercontent.com (raw.githubusercontent.com)... 199.232.8.133\n",
      "Connecting to raw.githubusercontent.com (raw.githubusercontent.com)|199.232.8.133|:443... connected.\n",
      "HTTP request sent, awaiting response... 200 OK\n",
      "Length: 932997 (911K) [application/octet-stream]\n",
      "Saving to: ‘hmp.parquet’\n",
      "\n",
      "hmp.parquet         100%[===================>] 911.13K  --.-KB/s    in 0.03s   \n",
      "\n",
      "2020-12-04 15:19:41 (32.7 MB/s) - ‘hmp.parquet’ saved [932997/932997]\n",
      "\n"
     ]
    }
   ],
   "source": [
    "# delete files from previous runs\n",
    "!rm -f hmp.parquet*\n",
    "\n",
    "# download the file containing the data in PARQUET format\n",
    "!wget https://github.com/IBM/coursera/raw/master/hmp.parquet\n",
    "    \n",
    "# create a dataframe out of it\n",
    "df = spark.read.parquet('hmp.parquet')\n",
    "\n",
    "# register a corresponding query table\n",
    "df.createOrReplaceTempView('df')"
   ]
  },
  {
   "cell_type": "markdown",
   "metadata": {},
   "source": [
    "Let’s have a look at the data set first. This dataset contains sensor recordings from different movement activities as we will see in the next week’s lectures. X, Y and Z contain accelerometer sensor values whereas the class field contains information about which movement has been recorded. The source field is optional and can be used for data lineage since it contains the file name of the original file where the particular row was imported from.\n",
    "\n",
    "More details on the data set can be found here:\n",
    "<https://github.com/wchill/HMP_Dataset>\n"
   ]
  },
  {
   "cell_type": "code",
   "execution_count": 6,
   "metadata": {},
   "outputs": [
    {
     "name": "stdout",
     "output_type": "stream",
     "text": [
      "+---+---+---+--------------------+-----------+\n",
      "|  x|  y|  z|              source|      class|\n",
      "+---+---+---+--------------------+-----------+\n",
      "| 22| 49| 35|Accelerometer-201...|Brush_teeth|\n",
      "| 22| 49| 35|Accelerometer-201...|Brush_teeth|\n",
      "| 22| 52| 35|Accelerometer-201...|Brush_teeth|\n",
      "| 22| 52| 35|Accelerometer-201...|Brush_teeth|\n",
      "| 21| 52| 34|Accelerometer-201...|Brush_teeth|\n",
      "| 22| 51| 34|Accelerometer-201...|Brush_teeth|\n",
      "| 20| 50| 35|Accelerometer-201...|Brush_teeth|\n",
      "| 22| 52| 34|Accelerometer-201...|Brush_teeth|\n",
      "| 22| 50| 34|Accelerometer-201...|Brush_teeth|\n",
      "| 22| 51| 35|Accelerometer-201...|Brush_teeth|\n",
      "| 21| 51| 33|Accelerometer-201...|Brush_teeth|\n",
      "| 20| 50| 34|Accelerometer-201...|Brush_teeth|\n",
      "| 21| 49| 33|Accelerometer-201...|Brush_teeth|\n",
      "| 21| 49| 33|Accelerometer-201...|Brush_teeth|\n",
      "| 20| 51| 35|Accelerometer-201...|Brush_teeth|\n",
      "| 18| 49| 34|Accelerometer-201...|Brush_teeth|\n",
      "| 19| 48| 34|Accelerometer-201...|Brush_teeth|\n",
      "| 16| 53| 34|Accelerometer-201...|Brush_teeth|\n",
      "| 18| 52| 35|Accelerometer-201...|Brush_teeth|\n",
      "| 18| 51| 32|Accelerometer-201...|Brush_teeth|\n",
      "+---+---+---+--------------------+-----------+\n",
      "only showing top 20 rows\n",
      "\n",
      "root\n",
      " |-- x: integer (nullable = true)\n",
      " |-- y: integer (nullable = true)\n",
      " |-- z: integer (nullable = true)\n",
      " |-- source: string (nullable = true)\n",
      " |-- class: string (nullable = true)\n",
      "\n"
     ]
    }
   ],
   "source": [
    "df.show()\n",
    "df.printSchema()"
   ]
  },
  {
   "cell_type": "markdown",
   "metadata": {},
   "source": [
    "This is a classical classification data set. One thing we always do during data analysis is checking if the classes are balanced. In other words, if there are more or less the same number of example in each class. Let’s find out by a simple aggregation using SQL.\n"
   ]
  },
  {
   "cell_type": "code",
   "execution_count": 7,
   "metadata": {},
   "outputs": [
    {
     "name": "stdout",
     "output_type": "stream",
     "text": [
      "+--------------+--------+\n",
      "|         class|count(1)|\n",
      "+--------------+--------+\n",
      "| Use_telephone|   15225|\n",
      "| Standup_chair|   25417|\n",
      "|      Eat_meat|   31236|\n",
      "|     Getup_bed|   45801|\n",
      "|   Drink_glass|   42792|\n",
      "|    Pour_water|   41673|\n",
      "|     Comb_hair|   23504|\n",
      "|          Walk|   92254|\n",
      "|  Climb_stairs|   40258|\n",
      "| Sitdown_chair|   25036|\n",
      "|   Liedown_bed|   11446|\n",
      "|Descend_stairs|   15375|\n",
      "|   Brush_teeth|   29829|\n",
      "|      Eat_soup|    6683|\n",
      "+--------------+--------+\n",
      "\n"
     ]
    }
   ],
   "source": [
    "spark.sql('select class,count(*) from df group by class').show()"
   ]
  },
  {
   "cell_type": "markdown",
   "metadata": {},
   "source": [
    "As you can see there is quite an imbalance between classes. Before we dig into this, let’s re-write the same query using the DataFrame API – just in case you are not familiar with SQL. As we’ve learned before, it doesn’t matter if you express your queries with SQL or the DataFrame API – it all gets boiled down into the same execution plan optimized by Tungsten and accelerated by Catalyst. You can even mix and match SQL and DataFrame API code if you like.\n",
    "\n",
    "Again, more details on the API can be found here:\n",
    "[https://spark.apache.org/docs/latest/api/python/pyspark.sql.html#pyspark.sql.DataFrame](https://spark.apache.org/docs/latest/api/python/pyspark.sql.html#pyspark.sql.DataFrame?cm_mmc=Email_Newsletter-_-Developer_Ed%2BTech-_-WW_WW-_-SkillsNetwork-Courses-IBMDeveloperSkillsNetwork-ML0201EN-SkillsNetwork-20647446&cm_mmca1=000026UJ&cm_mmca2=10006555&cm_mmca3=M12345678&cvosrc=email.Newsletter.M12345678&cvo_campaign=000026UJ&cm_mmc=Email_Newsletter-_-Developer_Ed%2BTech-_-WW_WW-_-SkillsNetwork-Courses-IBMDeveloperSkillsNetwork-ML0201EN-SkillsNetwork-20647446&cm_mmca1=000026UJ&cm_mmca2=10006555&cm_mmca3=M12345678&cvosrc=email.Newsletter.M12345678&cvo_campaign=000026UJ)\n"
   ]
  },
  {
   "cell_type": "code",
   "execution_count": 8,
   "metadata": {},
   "outputs": [
    {
     "name": "stdout",
     "output_type": "stream",
     "text": [
      "+--------------+-----+\n",
      "|         class|count|\n",
      "+--------------+-----+\n",
      "| Use_telephone|15225|\n",
      "| Standup_chair|25417|\n",
      "|      Eat_meat|31236|\n",
      "|     Getup_bed|45801|\n",
      "|   Drink_glass|42792|\n",
      "|    Pour_water|41673|\n",
      "|     Comb_hair|23504|\n",
      "|          Walk|92254|\n",
      "|  Climb_stairs|40258|\n",
      "| Sitdown_chair|25036|\n",
      "|   Liedown_bed|11446|\n",
      "|Descend_stairs|15375|\n",
      "|   Brush_teeth|29829|\n",
      "|      Eat_soup| 6683|\n",
      "+--------------+-----+\n",
      "\n"
     ]
    }
   ],
   "source": [
    "df.groupBy('class').count().show()"
   ]
  },
  {
   "cell_type": "markdown",
   "metadata": {},
   "source": [
    "Let’s create a bar plot from this data. We’re using the pixidust library, which is Open Source, because of its simplicity. But any other library like matplotlib is fine as well. \n"
   ]
  },
  {
   "cell_type": "code",
   "execution_count": 9,
   "metadata": {},
   "outputs": [],
   "source": [
    "#!pip install pixiedust"
   ]
  },
  {
   "cell_type": "code",
   "execution_count": 31,
   "metadata": {
    "pixiedust": {
     "displayParams": {
      "handlerId": "barChart",
      "keyFields": "class",
      "legend": "true",
      "mpld3": "false",
      "orientation": "horizontal",
      "rendererId": "matplotlib",
      "sortby": "Values ASC",
      "valueFields": "count"
     }
    }
   },
   "outputs": [
    {
     "name": "stdout",
     "output_type": "stream",
     "text": [
      "+--------------+-----+\n",
      "|         class|count|\n",
      "+--------------+-----+\n",
      "|      Eat_soup| 6683|\n",
      "|   Liedown_bed|11446|\n",
      "| Use_telephone|15225|\n",
      "|Descend_stairs|15375|\n",
      "|     Comb_hair|23504|\n",
      "| Sitdown_chair|25036|\n",
      "| Standup_chair|25417|\n",
      "|   Brush_teeth|29829|\n",
      "|      Eat_meat|31236|\n",
      "|  Climb_stairs|40258|\n",
      "|    Pour_water|41673|\n",
      "|   Drink_glass|42792|\n",
      "|     Getup_bed|45801|\n",
      "|          Walk|92254|\n",
      "+--------------+-----+\n",
      "\n"
     ]
    }
   ],
   "source": [
    "import pixiedust\n",
    "from pyspark.sql.functions import col\n",
    "counts = df.groupBy('class').count().orderBy('count')\n",
    "counts.show()"
   ]
  },
  {
   "cell_type": "code",
   "execution_count": 30,
   "metadata": {
    "pixiedust": {
     "displayParams": {
      "chartsize": "81",
      "handlerId": "barChart",
      "keyFields": "class",
      "legend": "false",
      "orientation": "horizontal",
      "sortby": "Values DESC",
      "valueFields": "count"
     }
    }
   },
   "outputs": [
    {
     "data": {
      "text/html": [
       "<style type=\"text/css\">.pd_warning{display:none;}</style><div class=\"pd_warning\"><em>Hey, there's something awesome here! To see it, open this notebook outside GitHub, in a viewer like Jupyter</em></div><img style=\"max-width:initial !important\" src=\"data:image/png;base64,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\" class=\"pd_save is-viewer-good\">"
      ],
      "text/plain": [
       "<IPython.core.display.HTML object>"
      ]
     },
     "metadata": {},
     "output_type": "display_data"
    }
   ],
   "source": [
    "from pixiedust import display\n",
    "\n",
    "display(counts)"
   ]
  },
  {
   "cell_type": "markdown",
   "metadata": {},
   "source": [
    "This looks nice, but it would be nice if we can aggregate further to obtain some quantitative metrics on the imbalance like, min, max, mean and standard deviation. If we divide max by min we get a measure called minmax ration which tells us something about the relationship between the smallest and largest class. Again, let’s first use SQL for those of you familiar with SQL. Don’t be scared, we’re used nested sub-selects, basically selecting from a result of a SQL query like it was a table. All within on SQL statement.\n"
   ]
  },
  {
   "cell_type": "code",
   "execution_count": 11,
   "metadata": {},
   "outputs": [
    {
     "name": "stdout",
     "output_type": "stream",
     "text": [
      "+----+-----+------------------+------------------+-----------------+\n",
      "| min|  max|              mean|            stddev|      minmaxratio|\n",
      "+----+-----+------------------+------------------+-----------------+\n",
      "|6683|92254|31894.928571428572|21284.893716741157|13.80427951518779|\n",
      "+----+-----+------------------+------------------+-----------------+\n",
      "\n"
     ]
    }
   ],
   "source": [
    "spark.sql('''\n",
    "    select \n",
    "        *,\n",
    "        max/min as minmaxratio -- compute minmaxratio based on previously computed values\n",
    "        from (\n",
    "            select \n",
    "                min(ct) as min, -- compute minimum value of all classes\n",
    "                max(ct) as max, -- compute maximum value of all classes\n",
    "                mean(ct) as mean, -- compute mean between all classes\n",
    "                stddev(ct) as stddev -- compute standard deviation between all classes\n",
    "                from (\n",
    "                    select\n",
    "                        count(*) as ct -- count the number of rows per class and rename it to ct\n",
    "                        from df -- access the temporary query table called df backed by DataFrame df\n",
    "                        group by class -- aggrecate over class\n",
    "                )\n",
    "        )   \n",
    "''').show()"
   ]
  },
  {
   "cell_type": "markdown",
   "metadata": {},
   "source": [
    "The same query can be expressed using the DataFrame API. Again, don’t be scared. It’s just a sequential expression of transformation steps. You now an choose which syntax you like better.\n"
   ]
  },
  {
   "cell_type": "code",
   "execution_count": 12,
   "metadata": {},
   "outputs": [
    {
     "name": "stdout",
     "output_type": "stream",
     "text": [
      "+----+-----+------------------+------------------+-----------------+\n",
      "| min|  max|              mean|            stddev|      minmaxratio|\n",
      "+----+-----+------------------+------------------+-----------------+\n",
      "|6683|92254|31894.928571428572|21284.893716741157|13.80427951518779|\n",
      "+----+-----+------------------+------------------+-----------------+\n",
      "\n"
     ]
    }
   ],
   "source": [
    "from pyspark.sql.functions import col, min, max, mean, stddev\n",
    "\n",
    "df \\\n",
    "    .groupBy('class') \\\n",
    "    .count() \\\n",
    "    .select([ \n",
    "        min(col(\"count\")).alias('min'), \n",
    "        max(col(\"count\")).alias('max'), \n",
    "        mean(col(\"count\")).alias('mean'), \n",
    "        stddev(col(\"count\")).alias('stddev') \n",
    "    ]) \\\n",
    "    .select([\n",
    "        col('*'),\n",
    "        (col(\"max\") / col(\"min\")).alias('minmaxratio')\n",
    "    ]) \\\n",
    "    .show()\n"
   ]
  },
  {
   "cell_type": "markdown",
   "metadata": {},
   "source": [
    "Now it’s time for you to work on the data set. First, please create a table of all classes with the respective counts, but this time, please order the table by the count number, ascending.\n"
   ]
  },
  {
   "cell_type": "code",
   "execution_count": 26,
   "metadata": {},
   "outputs": [
    {
     "name": "stdout",
     "output_type": "stream",
     "text": [
      "+--------------+-----+\n",
      "|         class|count|\n",
      "+--------------+-----+\n",
      "|      Eat_soup| 6683|\n",
      "|   Liedown_bed|11446|\n",
      "| Use_telephone|15225|\n",
      "|Descend_stairs|15375|\n",
      "|     Comb_hair|23504|\n",
      "| Sitdown_chair|25036|\n",
      "| Standup_chair|25417|\n",
      "|   Brush_teeth|29829|\n",
      "|      Eat_meat|31236|\n",
      "|  Climb_stairs|40258|\n",
      "|    Pour_water|41673|\n",
      "|   Drink_glass|42792|\n",
      "|     Getup_bed|45801|\n",
      "|          Walk|92254|\n",
      "+--------------+-----+\n",
      "\n"
     ]
    }
   ],
   "source": [
    "df.groupBy('class').count().orderBy('count', ascending=True).show()"
   ]
  },
  {
   "cell_type": "markdown",
   "metadata": {},
   "source": [
    "Pixiedust is a very sophisticated library. It takes care of sorting as well. Please modify the bar chart so that it gets sorted by the number of elements per class, ascending. Hint: It’s an option available in the UI once rendered using the display() function.\n"
   ]
  },
  {
   "cell_type": "code",
   "execution_count": 32,
   "metadata": {
    "pixiedust": {
     "displayParams": {
      "handlerId": "barChart",
      "keyFields": "class",
      "orientation": "horizontal",
      "sortby": "Values ASC",
      "valueFields": "count"
     }
    }
   },
   "outputs": [
    {
     "data": {
      "text/html": [
       "<style type=\"text/css\">.pd_warning{display:none;}</style><div class=\"pd_warning\"><em>Hey, there's something awesome here! To see it, open this notebook outside GitHub, in a viewer like Jupyter</em></div><img style=\"max-width:initial !important\" src=\"data:image/png;base64,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\" class=\"pd_save is-viewer-good\">"
      ],
      "text/plain": [
       "<IPython.core.display.HTML object>"
      ]
     },
     "metadata": {},
     "output_type": "display_data"
    }
   ],
   "source": [
    "display(counts)"
   ]
  },
  {
   "cell_type": "markdown",
   "metadata": {},
   "source": [
    "Imbalanced classes can cause pain in machine learning. Therefore let’s rebalance. In the flowing we limit the number of elements per class to the amount of the least represented class. This is called undersampling. Other ways of rebalancing can be found here:\n",
    "\n",
    "[https://machinelearningmastery.com/tactics-to-combat-imbalanced-classes-in-your-machine-learning-dataset/](https://machinelearningmastery.com/tactics-to-combat-imbalanced-classes-in-your-machine-learning-dataset?cm_mmc=Email_Newsletter-_-Developer_Ed%2BTech-_-WW_WW-_-SkillsNetwork-Courses-IBMDeveloperSkillsNetwork-ML0201EN-SkillsNetwork-20647446&cm_mmca1=000026UJ&cm_mmca2=10006555&cm_mmca3=M12345678&cvosrc=email.Newsletter.M12345678&cvo_campaign=000026UJ)\n"
   ]
  },
  {
   "cell_type": "code",
   "execution_count": 33,
   "metadata": {},
   "outputs": [],
   "source": [
    "from pyspark.sql.functions import min\n",
    "\n",
    "# create a lot of distinct classes from the dataset\n",
    "classes = [row[0] for row in df.select('class').distinct().collect()]\n",
    "\n",
    "# compute the number of elements of the smallest class in order to limit the number of samples per calss\n",
    "min = df.groupBy('class').count().select(min('count')).first()[0]\n",
    "\n",
    "# define the result dataframe variable\n",
    "df_balanced = None\n",
    "\n",
    "# iterate over distinct classes\n",
    "for cls in classes:\n",
    "    \n",
    "    # only select examples for the specific class within this iteration\n",
    "    # shuffle the order of the elements (by setting fraction to 1.0 sample works like shuffle)\n",
    "    # return only the first n samples\n",
    "    df_temp = df \\\n",
    "        .filter(\"class = '\"+cls+\"'\") \\\n",
    "        .sample(False, 1.0) \\\n",
    "        .limit(min)\n",
    "    \n",
    "    # on first iteration, assing df_temp to empty df_balanced\n",
    "    if df_balanced == None:    \n",
    "        df_balanced = df_temp\n",
    "    # afterwards, append vertically\n",
    "    else:\n",
    "        df_balanced=df_balanced.union(df_temp)"
   ]
  },
  {
   "cell_type": "markdown",
   "metadata": {},
   "source": [
    "Please verify, by using the code cell below, if df_balanced has the same number of elements per class. You should get 6683 elements per class.\n"
   ]
  },
  {
   "cell_type": "code",
   "execution_count": 34,
   "metadata": {},
   "outputs": [
    {
     "name": "stdout",
     "output_type": "stream",
     "text": [
      "+--------------+-----+\n",
      "|         class|count|\n",
      "+--------------+-----+\n",
      "| Use_telephone| 6683|\n",
      "| Standup_chair| 6683|\n",
      "|     Getup_bed| 6683|\n",
      "|      Eat_meat| 6683|\n",
      "|   Drink_glass| 6683|\n",
      "|    Pour_water| 6683|\n",
      "|     Comb_hair| 6683|\n",
      "|  Climb_stairs| 6683|\n",
      "|          Walk| 6683|\n",
      "| Sitdown_chair| 6683|\n",
      "|   Liedown_bed| 6683|\n",
      "|Descend_stairs| 6683|\n",
      "|   Brush_teeth| 6683|\n",
      "|      Eat_soup| 6683|\n",
      "+--------------+-----+\n",
      "\n"
     ]
    }
   ],
   "source": [
    "counts_2 = df_balanced.groupBy('class').count().orderBy('count')\n",
    "counts_2.show()"
   ]
  },
  {
   "cell_type": "markdown",
   "metadata": {
    "button": false,
    "new_sheet": false,
    "run_control": {
     "read_only": false
    }
   },
   "source": [
    "### Thank you for completing this lab!\n",
    "\n",
    "This notebook was created by <a href=\"https://linkedin.com/in/romeo-kienzler-089b4557\"> Romeo Kienzler </a>  I hope you found this lab interesting and educational. Feel free to contact me if you have any questions!\n"
   ]
  },
  {
   "cell_type": "markdown",
   "metadata": {},
   "source": [
    "## Change Log\n",
    "\n",
    "| Date (YYYY-MM-DD) | Version | Changed By | Change Description                                          |\n",
    "| ----------------- | ------- | ---------- | ----------------------------------------------------------- |\n",
    "| 2020-09-29        | 2.0     | Srishti    | Migrated Lab to Markdown and added to course repo in GitLab |\n",
    "\n",
    "<hr>\n",
    "\n",
    "## <h3 align=\"center\"> © IBM Corporation 2020. All rights reserved. <h3/>\n"
   ]
  }
 ],
 "metadata": {
  "kernelspec": {
   "display_name": "Python 3.7",
   "language": "python",
   "name": "python3"
  },
  "language_info": {
   "codemirror_mode": {
    "name": "ipython",
    "version": 3
   },
   "file_extension": ".py",
   "mimetype": "text/x-python",
   "name": "python",
   "nbconvert_exporter": "python",
   "pygments_lexer": "ipython3",
   "version": "3.7.9"
  }
 },
 "nbformat": 4,
 "nbformat_minor": 1
}
